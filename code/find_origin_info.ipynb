{
 "cells": [
  {
   "cell_type": "markdown",
   "metadata": {},
   "source": [
    "## (3) eml 파일 내 가장 아래 received 정보 추출하여 새로운 열에 저장"
   ]
  },
  {
   "cell_type": "code",
   "execution_count": 1,
   "metadata": {},
   "outputs": [],
   "source": [
    "import pandas as pd"
   ]
  },
  {
   "cell_type": "code",
   "execution_count": 2,
   "metadata": {},
   "outputs": [],
   "source": [
    "sac_df = pd.read_csv('../../parsed_eml_2.csv')"
   ]
  },
  {
   "cell_type": "code",
   "execution_count": 3,
   "metadata": {},
   "outputs": [],
   "source": [
    "# 가장아래의 Received 란의 정보중 'form' 정보 (발송자가 메일발송을 한 컴퓨터 IP)를 ori_sender_ip 열에 저장\n",
    "is_one = sac_df['last_num'] == 1\n",
    "sac_df.loc[is_one,'ori_sender_ip'] = sac_df['/header/received/0/from']\n",
    "\n",
    "is_two = sac_df['last_num'] == 2\n",
    "sac_df.loc[is_two,'ori_sender_ip'] = sac_df['/header/received/1/from']\n",
    "\n",
    "is_three = sac_df['last_num'] == 3\n",
    "sac_df.loc[is_three,'ori_sender_ip'] = sac_df['/header/received/2/from']\n",
    "\n",
    "is_four = sac_df['last_num'] == 4\n",
    "sac_df.loc[is_four,'ori_sender_ip'] = sac_df['/header/received/3/from']\n",
    "\n",
    "is_five = sac_df['last_num'] == 5\n",
    "sac_df.loc[is_five,'ori_sender_ip'] = sac_df['/header/received/4/from']\n",
    "\n",
    "is_six = sac_df['last_num'] == 6\n",
    "sac_df.loc[is_six,'ori_sender_ip'] = sac_df['/header/received/5/from']"
   ]
  },
  {
   "cell_type": "code",
   "execution_count": 4,
   "metadata": {},
   "outputs": [],
   "source": [
    "# 가장아래의 Received 란의 정보중 'by' 정보 (발송자가 메일발송을 한 메일서버)를 ori_sender_server 열에 저장\n",
    "sac_df.loc[is_one,'ori_sender_server'] = sac_df['/header/received/0/by']\n",
    "sac_df.loc[is_two,'ori_sender_server'] = sac_df['/header/received/1/by']\n",
    "sac_df.loc[is_three,'ori_sender_server'] = sac_df['/header/received/2/by']\n",
    "sac_df.loc[is_four,'ori_sender_server'] = sac_df['/header/received/3/by']\n",
    "sac_df.loc[is_five,'ori_sender_server'] = sac_df['/header/received/4/by']\n",
    "sac_df.loc[is_six,'ori_sender_server'] = sac_df['/header/received/5/by']"
   ]
  },
  {
   "cell_type": "code",
   "execution_count": 5,
   "metadata": {},
   "outputs": [
    {
     "name": "stdout",
     "output_type": "stream",
     "text": [
      "KeyError '/header/received/5/for'\n"
     ]
    }
   ],
   "source": [
    "# 가장아래의 Received 란의 정보중 'for' 정보 (수신자의 전자우편 주소)를 receiver_mail 열에 저장\n",
    "sac_df.loc[is_one,'ori_receiver_mail'] = sac_df['/header/received/0/for']\n",
    "sac_df.loc[is_two,'ori_receiver_mail'] = sac_df['/header/received/1/for']\n",
    "sac_df.loc[is_three,'ori_receiver_mail'] = sac_df['/header/received/2/for']\n",
    "sac_df.loc[is_four,'ori_receiver_mail'] = sac_df['/header/received/3/for']\n",
    "sac_df.loc[is_five,'ori_receiver_mail'] = sac_df['/header/received/4/for']\n",
    "try:\n",
    "    sac_df.loc[is_six,'ori_receiver_mail'] = sac_df['/header/received/5/for']\n",
    "except KeyError as e:\n",
    "    # '/header/received/5/for' 이 없음\n",
    "    print('KeyError', e)"
   ]
  },
  {
   "cell_type": "code",
   "execution_count": 7,
   "metadata": {},
   "outputs": [],
   "source": [
    "sac_df.to_csv('../../parsed_eml_3.csv', encoding='utf-8-sig')"
   ]
  },
  {
   "cell_type": "code",
   "execution_count": null,
   "metadata": {},
   "outputs": [],
   "source": []
  }
 ],
 "metadata": {
  "kernelspec": {
   "display_name": "Python 3",
   "language": "python",
   "name": "python3"
  },
  "language_info": {
   "codemirror_mode": {
    "name": "ipython",
    "version": 3
   },
   "file_extension": ".py",
   "mimetype": "text/x-python",
   "name": "python",
   "nbconvert_exporter": "python",
   "pygments_lexer": "ipython3",
   "version": "3.7.7"
  }
 },
 "nbformat": 4,
 "nbformat_minor": 4
}
