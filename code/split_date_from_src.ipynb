{
 "cells": [
  {
   "cell_type": "markdown",
   "metadata": {},
   "source": [
    "eml header 중 \n",
    "/header/received/0/src에는 다음과 같이 2가지(일단 확인한 것은 2가지) 형태로 정보가 들어있다.\n",
    "- 형식 1) from [ip] at [날짜 + 시간] by [mail.com] with [esmtp credishield]\n",
    "- 형식 2) from [imss.checkbox.kr] by [imsva] with [esmtp] id [id] for [메일주소]; [날짜+시간]\n",
    "\n",
    "형식 2의 경우 모든 내용이 /header/received/0/from, /header/received/0/by, /header/received/0/with, /header/received/0/id, /header/received/0/for, /header/received/0/date에 파싱되어 저장되어 있음(이제까지 확인한 것에 따르면, 정확하게 확인할 필요 있지만, 아직 안함)\n",
    "<br>형식 1의 경우 다른 내용은 형식 2와 같이 파싱되어 각 열(/header/received/0/from, /header/received/0/by, ...)에 저장되어 있지만, 날짜는 제대로 저장되지 않음 1970-01-01 00:00:00+00:00 으로 저장되어 있음\n",
    "<br>\n",
    "<br>따라서 /header/received/0/src 열의 내용이 형식1과 같이 된 경우에 관해서만, 그 내용 중 날짜만 처리함 /header/received/0/src 안에서 날자+시간 정보를 빼내어 /header/received/0/src_at 열에 저장\n",
    "<br>만약 /header/received/0/src 열의 내용이 형식2라면 /header/received/0/src_at에는 Naf값이 저장됨\n",
    "<br>이에 해당하는 행들은 마지막에 /header/received/0/date 열의 내용을 /header/received/0/src_at 열에 저장"
   ]
  },
  {
   "cell_type": "code",
   "execution_count": 1,
   "metadata": {},
   "outputs": [],
   "source": [
    "import os\n",
    "import numpy as np\n",
    "import pandas as pd\n",
    "import datetime"
   ]
  },
  {
   "cell_type": "code",
   "execution_count": 2,
   "metadata": {},
   "outputs": [],
   "source": [
    "eml_df = pd.read_csv('../../test.csv') # 이전에 파싱하여 만든 csv 파일 읽어오기"
   ]
  },
  {
   "cell_type": "code",
   "execution_count": 3,
   "metadata": {},
   "outputs": [],
   "source": [
    "# '/header/received/0'로 시작하는 열이름 저장\n",
    "# '/header/received/0/src는 check_src_columns에 저장\n",
    "# '/header/received/0/from', /header/received/0/date', .. 은 check_columns에 저장\n",
    "check_columns = []\n",
    "check_src_columns = []\n",
    "for c in eml_df.columns:\n",
    "    if '/header/received/0' in c:\n",
    "        if '/src' in c:\n",
    "            check_src_columns.append(c)    \n",
    "        else:\n",
    "            check_columns.append(c)\n"
   ]
  },
  {
   "cell_type": "code",
   "execution_count": 4,
   "metadata": {},
   "outputs": [],
   "source": [
    "# 각 열에 해당하는 내용을 eml_df에서 뽑아서 새로운 check_df, check_src_df 만듬\n",
    "check_df = pd.DataFrame()\n",
    "for col in check_columns:\n",
    "    check_df = pd.concat([check_df, eml_df[col]], axis=1)\n",
    "    \n",
    "check_src_df = pd.DataFrame()\n",
    "for col in check_src_columns:\n",
    "    check_src_df = pd.concat([check_src_df, eml_df[col]], axis=1)"
   ]
  },
  {
   "cell_type": "code",
   "execution_count": 5,
   "metadata": {},
   "outputs": [],
   "source": [
    "# 처리할 열(/header/received/0/src)과 그 열에 대한 값이 저장되어 있는 check_src_df를 인자로 받음 \n",
    "# /header/received/0/src의 내용이 형식 1과 같은 경우 \n",
    "# 'from ', ' at ', ' by ', ' with ' 문자열을 기준으로 split\n",
    "# split한 결과를 각각 열에 추가하여 all_df DataFrame을 반환\n",
    "# 만약 /header/received/0/src 내용이 형식 2라면, 중간에 split되지 않아,\n",
    "# /header/received/0/src_at열에는 Naf값이 저장, from은 저장될 것.(아직 깔끔하게 처리 못함. 형식 1에 대해서만 처리함)\n",
    "def split_src(check_src_columns, check_src_df):\n",
    "    all_df = pd.DataFrame()\n",
    "    for i, col in enumerate(check_src_columns):\n",
    "        check_df = pd.DataFrame()\n",
    "        if check_src_df[col].isnull().sum() == len(check_src_df):\n",
    "            continue\n",
    "        temp = check_src_df[col].str.split('from ', expand=True)\n",
    "        if len(temp.columns) >= 2:\n",
    "            split_from = temp[1].str.split(' at ', expand=True)\n",
    "            check_df=pd.concat([check_df, split_from[0]], axis=1)\n",
    "            check_df.columns = [col+'_from']\n",
    "            if len(split_from.columns) >= 2:\n",
    "                split_at = split_from[1].str.split(' by ', expand=True)\n",
    "                check_df=pd.concat([check_df, split_at[0]], axis=1)\n",
    "                check_df.columns = [col+'_from', col+'_at']\n",
    "                if len(split_at.columns) >= 2:\n",
    "                    split_by = split_at[1].str.split(' with ', expand=True)\n",
    "                    check_df=pd.concat([check_df, split_by[0]], axis=1)\n",
    "                    check_df.columns = [col+'_from', col+'_at', col+'_by']\n",
    "                    if len(split_by.columns) >= 2:\n",
    "                        check_df=pd.concat([check_df, split_by[1]], axis=1)\n",
    "                        check_df.columns = [col+'_from', col+'_at', col+'_by', col+'_with']\n",
    "\n",
    "            print('**', check_df.columns)\n",
    "            all_df=pd.concat([all_df, check_df])\n",
    " \n",
    "    return all_df"
   ]
  },
  {
   "cell_type": "code",
   "execution_count": 6,
   "metadata": {},
   "outputs": [
    {
     "name": "stdout",
     "output_type": "stream",
     "text": [
      "** Index(['/header/received/0/src_from', '/header/received/0/src_at',\n",
      "       '/header/received/0/src_by', '/header/received/0/src_with'],\n",
      "      dtype='object')\n"
     ]
    }
   ],
   "source": [
    "# /header/received/0/src 를 split한 결과를 splited_df에 저장\n",
    "splited_df = split_src(check_src_columns, check_src_df)"
   ]
  },
  {
   "cell_type": "code",
   "execution_count": 7,
   "metadata": {},
   "outputs": [],
   "source": [
    "# 날짜+시간에 관련된 내용을 뽑아 date_time_str에 저장\n",
    "date_time_str = splited_df['/header/received/0/src_at']"
   ]
  },
  {
   "cell_type": "code",
   "execution_count": 8,
   "metadata": {},
   "outputs": [],
   "source": [
    "# to_datetime을 이용해 날짜 형식으로 변환하여 다시 '/header/received/0/src_at'열에 저장\n",
    "splited_df['/header/received/0/src_at'] = pd.to_datetime(date_time_str, utc=True)"
   ]
  },
  {
   "cell_type": "code",
   "execution_count": 9,
   "metadata": {},
   "outputs": [],
   "source": [
    "# 이전의 열들 뒤에 추가하여 새로운 DataFrame 정의\n",
    "splited_and_concat_df = pd.concat([eml_df, splited_df['/header/received/0/src_at']], axis=1)"
   ]
  },
  {
   "cell_type": "code",
   "execution_count": 10,
   "metadata": {},
   "outputs": [],
   "source": [
    "# 형식 2의 경우 '/header/received/0/src_at'에 Naf값이 들어있기 때문에 이를 처리\n",
    "# '/header/received/0/src_at' 값이 null인 행들은 '/header/received/0/date' 값을 '/header/received/0/src_at'에 저장시킴\n",
    "is_not_date = splited_and_concat_df['/header/received/0/src_at'].isnull()\n",
    "splited_and_concat_df.loc[is_not_date,'/header/received/0/src_at'] = splited_and_concat_df[is_not_date]['/header/received/0/date']\n"
   ]
  },
  {
   "cell_type": "code",
   "execution_count": 11,
   "metadata": {},
   "outputs": [],
   "source": [
    "# EDA에 사용할 csv 파일 생성\n",
    "splited_and_concat_df.to_csv('../../split_date_from_receaved_0_src.csv')"
   ]
  },
  {
   "cell_type": "code",
   "execution_count": null,
   "metadata": {},
   "outputs": [],
   "source": []
  }
 ],
 "metadata": {
  "kernelspec": {
   "display_name": "Python 3",
   "language": "python",
   "name": "python3"
  },
  "language_info": {
   "codemirror_mode": {
    "name": "ipython",
    "version": 3
   },
   "file_extension": ".py",
   "mimetype": "text/x-python",
   "name": "python",
   "nbconvert_exporter": "python",
   "pygments_lexer": "ipython3",
   "version": "3.7.7"
  }
 },
 "nbformat": 4,
 "nbformat_minor": 4
}
