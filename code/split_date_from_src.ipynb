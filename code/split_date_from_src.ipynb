{
 "cells": [
  {
   "cell_type": "markdown",
   "metadata": {},
   "source": [
    "## (2) /header/received/0/src에서 날짜+시간 정보 파싱"
   ]
  },
  {
   "cell_type": "markdown",
   "metadata": {},
   "source": [
    "eml header 중 \n",
    "/header/received/0/src에는 다음과 같이 2가지(일단 확인한 것은 2가지) 형태로 정보가 들어있다.\n",
    "- 형식 1) from [ip] at [날짜 + 시간] by [mail.com] with [esmtp credishield]\n",
    "- 형식 2) from [imss.checkbox.kr] by [imsva] with [esmtp] id [id] for [메일주소]; [날짜+시간]\n",
    "\n",
    "형식 2의 경우 모든 내용이 /header/received/0/from, /header/received/0/by, /header/received/0/with, /header/received/0/id, /header/received/0/for, /header/received/0/date에 파싱되어 저장되어 있음(이제까지 확인한 것에 따르면, 정확하게 확인할 필요 있지만, 아직 안함)\n",
    "<br>형식 1의 경우 다른 내용은 형식 2와 같이 파싱되어 각 열(/header/received/0/from, /header/received/0/by, ...)에 저장되어 있지만, 날짜는 제대로 저장되지 않음 1970-01-01 00:00:00+00:00 으로 저장되어 있음\n",
    "<br>\n",
    "<br>따라서 /header/received/0/src 열의 내용이 형식1과 같이 된 경우에 관해서만, 그 내용 중 날짜만 처리함 /header/received/0/src 안에서 날자+시간 정보를 빼내어 /header/received/0/src_at 열에 저장\n",
    "<br>만약 /header/received/0/src 열의 내용이 형식2라면 /header/received/0/src_at에는 Naf값이 저장됨\n",
    "<br>이에 해당하는 행들은 마지막에 /header/received/0/date 열의 내용을 /header/received/0/src_at 열에 저장"
   ]
  },
  {
   "cell_type": "code",
   "execution_count": 1,
   "metadata": {},
   "outputs": [],
   "source": [
    "import pandas as pd\n",
    "import datetime"
   ]
  },
  {
   "cell_type": "code",
   "execution_count": 2,
   "metadata": {},
   "outputs": [],
   "source": [
    "eml_df = pd.read_csv('../../parsed_eml_1.csv') # 이전에 파싱하여 만든 csv 파일 읽어오기"
   ]
  },
  {
   "cell_type": "code",
   "execution_count": 3,
   "metadata": {},
   "outputs": [],
   "source": [
    "# '/header/received/0'로 시작하는 열이름 저장\n",
    "# '/header/received/0/src는 check_src_columns에 저장\n",
    "# '/header/received/0/from', /header/received/0/date', .. 은 check_columns에 저장\n",
    "check_columns = []\n",
    "check_src_columns = []\n",
    "for c in eml_df.columns:\n",
    "    if '/header/received/0' in c:\n",
    "        if '/src' in c:\n",
    "            check_src_columns.append(c)    \n",
    "        else:\n",
    "            check_columns.append(c)\n"
   ]
  },
  {
   "cell_type": "code",
   "execution_count": 4,
   "metadata": {},
   "outputs": [],
   "source": [
    "# 각 열에 해당하는 내용을 eml_df에서 뽑아서 새로운 check_df, check_src_df 만듬\n",
    "check_df = pd.DataFrame()\n",
    "for col in check_columns:\n",
    "    check_df = pd.concat([check_df, eml_df[col]], axis=1)\n",
    "    \n",
    "check_src_df = pd.DataFrame()\n",
    "for col in check_src_columns:\n",
    "    check_src_df = pd.concat([check_src_df, eml_df[col]], axis=1)"
   ]
  },
  {
   "cell_type": "code",
   "execution_count": 5,
   "metadata": {},
   "outputs": [],
   "source": [
    "# 처리할 열(/header/received/0/src)과 그 열에 대한 값이 저장되어 있는 check_src_df를 인자로 받음 \n",
    "# /header/received/0/src의 내용이 형식 1과 같은 경우 \n",
    "# 'from ', ' at ', ' by ', ' with ' 문자열을 기준으로 split\n",
    "# split한 결과를 각각 열에 추가하여 all_df DataFrame을 반환\n",
    "# 만약 /header/received/0/src 내용이 형식 2라면, 중간에 split되지 않아,\n",
    "# /header/received/0/src_at열에는 Naf값이 저장, from은 저장될 것.(아직 깔끔하게 처리 못함. 형식 1에 대해서만 처리함)\n",
    "def split_src(check_src_columns, check_src_df):\n",
    "    all_df = pd.DataFrame()\n",
    "    for i, col in enumerate(check_src_columns):\n",
    "        check_df = pd.DataFrame()\n",
    "        if check_src_df[col].isnull().sum() == len(check_src_df):\n",
    "            continue\n",
    "        temp = check_src_df[col].str.split('from ', expand=True)\n",
    "        if len(temp.columns) >= 2:\n",
    "            split_from = temp[1].str.split(' at ', expand=True)\n",
    "            check_df=pd.concat([check_df, split_from[0]], axis=1)\n",
    "            check_df.columns = [col+'_from']\n",
    "            if len(split_from.columns) >= 2:\n",
    "                split_at = split_from[1].str.split(' by ', expand=True)\n",
    "                check_df=pd.concat([check_df, split_at[0]], axis=1)\n",
    "                check_df.columns = [col+'_from', col+'_at']\n",
    "                if len(split_at.columns) >= 2:\n",
    "                    split_by = split_at[1].str.split(' with ', expand=True)\n",
    "                    check_df=pd.concat([check_df, split_by[0]], axis=1)\n",
    "                    check_df.columns = [col+'_from', col+'_at', col+'_by']\n",
    "                    if len(split_by.columns) >= 2:\n",
    "                        check_df=pd.concat([check_df, split_by[1]], axis=1)\n",
    "                        check_df.columns = [col+'_from', col+'_at', col+'_by', col+'_with']\n",
    "\n",
    "            print('**', check_df.columns)\n",
    "            all_df=pd.concat([all_df, check_df])\n",
    " \n",
    "    return all_df"
   ]
  },
  {
   "cell_type": "code",
   "execution_count": 15,
   "metadata": {},
   "outputs": [
    {
     "name": "stdout",
     "output_type": "stream",
     "text": [
      "** Index(['/header/received/0/src_from', '/header/received/0/src_at',\n",
      "       '/header/received/0/src_by', '/header/received/0/src_with'],\n",
      "      dtype='object')\n"
     ]
    }
   ],
   "source": [
    "# /header/received/0/src 를 split한 결과를 splited_df에 저장\n",
    "splited_df = split_src(check_src_columns, check_src_df)"
   ]
  },
  {
   "cell_type": "code",
   "execution_count": 16,
   "metadata": {},
   "outputs": [
    {
     "data": {
      "text/html": [
       "<div>\n",
       "<style scoped>\n",
       "    .dataframe tbody tr th:only-of-type {\n",
       "        vertical-align: middle;\n",
       "    }\n",
       "\n",
       "    .dataframe tbody tr th {\n",
       "        vertical-align: top;\n",
       "    }\n",
       "\n",
       "    .dataframe thead th {\n",
       "        text-align: right;\n",
       "    }\n",
       "</style>\n",
       "<table border=\"1\" class=\"dataframe\">\n",
       "  <thead>\n",
       "    <tr style=\"text-align: right;\">\n",
       "      <th></th>\n",
       "      <th>/header/received/0/src_from</th>\n",
       "      <th>/header/received/0/src_at</th>\n",
       "      <th>/header/received/0/src_by</th>\n",
       "      <th>/header/received/0/src_with</th>\n",
       "    </tr>\n",
       "  </thead>\n",
       "  <tbody>\n",
       "    <tr>\n",
       "      <th>0</th>\n",
       "      <td>58.248.209.14(58.248.209.14)</td>\n",
       "      <td>thu, 29 aug 2019 20:22:27 +0900</td>\n",
       "      <td>mail.com</td>\n",
       "      <td>esmtp credishield</td>\n",
       "    </tr>\n",
       "    <tr>\n",
       "      <th>1</th>\n",
       "      <td>122.97.133.171(122.97.133.171)</td>\n",
       "      <td>mon, 06 apr 2020 05:06:38 +0900</td>\n",
       "      <td>mail.com</td>\n",
       "      <td>esmtp credishield</td>\n",
       "    </tr>\n",
       "    <tr>\n",
       "      <th>2</th>\n",
       "      <td>219.139.240.195(219.139.240.195)</td>\n",
       "      <td>fri, 05 jul 2019 15:27:12 +0900</td>\n",
       "      <td>mail.com</td>\n",
       "      <td>esmtp credishield</td>\n",
       "    </tr>\n",
       "    <tr>\n",
       "      <th>3</th>\n",
       "      <td>92.118.114.40(92.118.114.40)</td>\n",
       "      <td>thu, 11 jun 2020 01:28:26 +0900</td>\n",
       "      <td>mail.com</td>\n",
       "      <td>esmtp credishield</td>\n",
       "    </tr>\n",
       "    <tr>\n",
       "      <th>4</th>\n",
       "      <td>200.119.125.194(200.119.125.194)</td>\n",
       "      <td>sat, 16 may 2020 11:40:25 +0900</td>\n",
       "      <td>mail.com</td>\n",
       "      <td>esmtp credishield</td>\n",
       "    </tr>\n",
       "    <tr>\n",
       "      <th>...</th>\n",
       "      <td>...</td>\n",
       "      <td>...</td>\n",
       "      <td>...</td>\n",
       "      <td>...</td>\n",
       "    </tr>\n",
       "    <tr>\n",
       "      <th>150</th>\n",
       "      <td>196.216.220.204(196.216.220.204)</td>\n",
       "      <td>mon, 06 apr 2020 15:20:31 +0900</td>\n",
       "      <td>mail.com</td>\n",
       "      <td>esmtp credishield</td>\n",
       "    </tr>\n",
       "    <tr>\n",
       "      <th>151</th>\n",
       "      <td>180.166.200.170(180.166.200.170)</td>\n",
       "      <td>tue, 14 apr 2020 03:00:47 +0900</td>\n",
       "      <td>mail.com</td>\n",
       "      <td>esmtp credishield</td>\n",
       "    </tr>\n",
       "    <tr>\n",
       "      <th>152</th>\n",
       "      <td>180.167.196.58(180.167.196.58)</td>\n",
       "      <td>mon, 06 apr 2020 07:11:17 +0900</td>\n",
       "      <td>mail.com</td>\n",
       "      <td>esmtp credishield</td>\n",
       "    </tr>\n",
       "    <tr>\n",
       "      <th>153</th>\n",
       "      <td>180.166.200.170(180.166.200.170)</td>\n",
       "      <td>tue, 14 apr 2020 00:12:15 +0900</td>\n",
       "      <td>mail.com</td>\n",
       "      <td>esmtp credishield</td>\n",
       "    </tr>\n",
       "    <tr>\n",
       "      <th>154</th>\n",
       "      <td>134.73.56.18(134.73.56.18)</td>\n",
       "      <td>mon, 15 jun 2020 22:13:51 +0900</td>\n",
       "      <td>mail.com</td>\n",
       "      <td>esmtp credishield</td>\n",
       "    </tr>\n",
       "  </tbody>\n",
       "</table>\n",
       "<p>155 rows × 4 columns</p>\n",
       "</div>"
      ],
      "text/plain": [
       "          /header/received/0/src_from        /header/received/0/src_at  \\\n",
       "0        58.248.209.14(58.248.209.14)  thu, 29 aug 2019 20:22:27 +0900   \n",
       "1      122.97.133.171(122.97.133.171)  mon, 06 apr 2020 05:06:38 +0900   \n",
       "2    219.139.240.195(219.139.240.195)  fri, 05 jul 2019 15:27:12 +0900   \n",
       "3        92.118.114.40(92.118.114.40)  thu, 11 jun 2020 01:28:26 +0900   \n",
       "4    200.119.125.194(200.119.125.194)  sat, 16 may 2020 11:40:25 +0900   \n",
       "..                                ...                              ...   \n",
       "150  196.216.220.204(196.216.220.204)  mon, 06 apr 2020 15:20:31 +0900   \n",
       "151  180.166.200.170(180.166.200.170)  tue, 14 apr 2020 03:00:47 +0900   \n",
       "152    180.167.196.58(180.167.196.58)  mon, 06 apr 2020 07:11:17 +0900   \n",
       "153  180.166.200.170(180.166.200.170)  tue, 14 apr 2020 00:12:15 +0900   \n",
       "154        134.73.56.18(134.73.56.18)  mon, 15 jun 2020 22:13:51 +0900   \n",
       "\n",
       "    /header/received/0/src_by /header/received/0/src_with  \n",
       "0                    mail.com           esmtp credishield  \n",
       "1                    mail.com           esmtp credishield  \n",
       "2                    mail.com           esmtp credishield  \n",
       "3                    mail.com           esmtp credishield  \n",
       "4                    mail.com           esmtp credishield  \n",
       "..                        ...                         ...  \n",
       "150                  mail.com           esmtp credishield  \n",
       "151                  mail.com           esmtp credishield  \n",
       "152                  mail.com           esmtp credishield  \n",
       "153                  mail.com           esmtp credishield  \n",
       "154                  mail.com           esmtp credishield  \n",
       "\n",
       "[155 rows x 4 columns]"
      ]
     },
     "execution_count": 16,
     "metadata": {},
     "output_type": "execute_result"
    }
   ],
   "source": [
    "splited_df"
   ]
  },
  {
   "cell_type": "code",
   "execution_count": 7,
   "metadata": {},
   "outputs": [],
   "source": [
    "# 날짜+시간에 관련된 내용을 뽑아 date_time_str에 저장\n",
    "#date_time_str = splited_df['/header/received/0/src_at']"
   ]
  },
  {
   "cell_type": "code",
   "execution_count": 8,
   "metadata": {},
   "outputs": [],
   "source": [
    "# to_datetime을 이용해 날짜 형식으로 변환하여 다시 '/header/received/0/src_at'열에 저장\n",
    "#splited_df['/header/received/0/src_at'] = pd.to_datetime(date_time_str, utc=True)"
   ]
  },
  {
   "cell_type": "code",
   "execution_count": 17,
   "metadata": {},
   "outputs": [],
   "source": [
    "# 이전의 열들 뒤에 추가하여 새로운 DataFrame 정의\n",
    "splited_and_concat_df = pd.concat([eml_df, splited_df['/header/received/0/src_at']], axis=1)"
   ]
  },
  {
   "cell_type": "code",
   "execution_count": 18,
   "metadata": {},
   "outputs": [],
   "source": [
    "# 형식 2의 경우 '/header/received/0/src_at'에 Naf(null)값이 들어있기 때문에 이를 처리\n",
    "# '/header/received/0/src_at' 값이 null인 행들은 '/header/received/0/date' 값을 '/header/received/0/src_at'에 저장시킴\n",
    "is_not_date = splited_and_concat_df['/header/received/0/src_at'].isnull()\n",
    "splited_and_concat_df.loc[is_not_date,'/header/received/0/src_at'] = splited_and_concat_df[is_not_date]['/header/received/0/date']\n"
   ]
  },
  {
   "cell_type": "code",
   "execution_count": 19,
   "metadata": {},
   "outputs": [],
   "source": [
    "# EDA에 사용할 csv 파일 생성\n",
    "splited_and_concat_df.to_csv('../../parsed_eml_2.csv', encoding='utf-8-sig')"
   ]
  },
  {
   "cell_type": "code",
   "execution_count": null,
   "metadata": {},
   "outputs": [],
   "source": []
  }
 ],
 "metadata": {
  "kernelspec": {
   "display_name": "Python 3",
   "language": "python",
   "name": "python3"
  },
  "language_info": {
   "codemirror_mode": {
    "name": "ipython",
    "version": 3
   },
   "file_extension": ".py",
   "mimetype": "text/x-python",
   "name": "python",
   "nbconvert_exporter": "python",
   "pygments_lexer": "ipython3",
   "version": "3.7.7"
  }
 },
 "nbformat": 4,
 "nbformat_minor": 4
}
