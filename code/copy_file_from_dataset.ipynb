{
 "cells": [
  {
   "cell_type": "markdown",
   "metadata": {},
   "source": [
    "## 선택(의무 X)"
   ]
  },
  {
   "cell_type": "code",
   "execution_count": 9,
   "metadata": {},
   "outputs": [],
   "source": [
    "import os"
   ]
  },
  {
   "cell_type": "code",
   "execution_count": 19,
   "metadata": {},
   "outputs": [],
   "source": [
    "# 현재 경로에 folder 생성\n",
    "FOLDER_NAME = 'for_donghyunoppa' ### 조건 변경을 원하면 수정할 부분(1) - 폴더명\n",
    "if not(os.path.isdir(os.path.join('../../', FOLDER_NAME))):\n",
    "    os.makedirs(os.path.join('../../', FOLDER_NAME))\n",
    "else:\n",
    "    print('해당 위치에', FOLDER_NAME,'디렉토리가 존재합니다.')"
   ]
  },
  {
   "cell_type": "code",
   "execution_count": 20,
   "metadata": {},
   "outputs": [],
   "source": [
    "# read_folder: 복사할 파일이 저장된 폴더 경로(parsing(using_eml-parser) 함수에 인자로 준 경로와 동일, 모든 데이터셋이 저장된 경로)\n",
    "# write_folder: 복사한 파일을 저장할 폴더 경로\n",
    "# start_str: 맨 앞 3자리 글자(조건(맨 앞 글자 수 등)을 바꾸고 싶으면, copy_file() 함수내 'if not(file[0:3] == start_str):' 부분 수정)\n",
    "def copy_file(read_folder, write_folder, start_str1, start_str2):\n",
    "    file_list = os.listdir(read_folder)\n",
    "    \n",
    "    for file in file_list:\n",
    "        if not (file[0:3] == start_str1 or file[0:3] == start_str2):  ### 조건 변경을 원하면 수정할 부분(2) - 맨 앞 글자수를 바꾸고 싶으면 인데싱 범위를 수정\n",
    "            continue\n",
    "            \n",
    "        read_file_path = os.path.join(read_folder, file)\n",
    "        fr = open(read_file_path, 'r', encoding='utf-8' )\n",
    "        write_file_path = os.path.join('../../', write_folder, file)\n",
    "        fw = open(write_file_path, 'w', encoding='utf-8')\n",
    "        while True:\n",
    "            line = fr.readline()\n",
    "            fw.write(line)\n",
    "            if not line:\n",
    "                break\n",
    "        fr.close()\n",
    "        fw.close()"
   ]
  },
  {
   "cell_type": "code",
   "execution_count": 21,
   "metadata": {},
   "outputs": [],
   "source": [
    "copy_file('../../dataset/eml', FOLDER_NAME, '0b2', '0b3')   ### 조건 변경을 원하면 수정할 부분(3) - 데이터셋이 저장된 경로(첫번째 인자), 복사할 파일의 맨 앞 세글자(세번째 인자)"
   ]
  },
  {
   "cell_type": "code",
   "execution_count": 22,
   "metadata": {},
   "outputs": [
    {
     "data": {
      "text/plain": [
       "343"
      ]
     },
     "execution_count": 22,
     "metadata": {},
     "output_type": "execute_result"
    }
   ],
   "source": [
    "file_list = os.listdir('../../for_donghyunoppa')\n",
    "len(file_list)"
   ]
  },
  {
   "cell_type": "code",
   "execution_count": null,
   "metadata": {},
   "outputs": [],
   "source": []
  }
 ],
 "metadata": {
  "kernelspec": {
   "display_name": "Python 3",
   "language": "python",
   "name": "python3"
  },
  "language_info": {
   "codemirror_mode": {
    "name": "ipython",
    "version": 3
   },
   "file_extension": ".py",
   "mimetype": "text/x-python",
   "name": "python",
   "nbconvert_exporter": "python",
   "pygments_lexer": "ipython3",
   "version": "3.7.7"
  }
 },
 "nbformat": 4,
 "nbformat_minor": 4
}
